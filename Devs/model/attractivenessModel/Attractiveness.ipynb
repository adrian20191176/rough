{
  "nbformat": 4,
  "nbformat_minor": 0,
  "metadata": {
    "colab": {
      "name": "Attractiveness.ipynb",
      "provenance": [],
      "collapsed_sections": []
    },
    "kernelspec": {
      "name": "python3",
      "display_name": "Python 3"
    },
    "language_info": {
      "name": "python"
    }
  },
  "cells": [
    {
      "cell_type": "code",
      "metadata": {
        "id": "3e_-sKyxJASI"
      },
      "source": [
        "import pandas as pd\n",
        "\n",
        "url = 'https://raw.githubusercontent.com/SCAARD-2021/ReachHigh/main/dataSet/detailsFinal.csv'\n",
        "df = pd.read_csv(url)"
      ],
      "execution_count": null,
      "outputs": []
    },
    {
      "cell_type": "code",
      "metadata": {
        "colab": {
          "base_uri": "https://localhost:8080/",
          "height": 618
        },
        "id": "zwnnREOeJhwB",
        "outputId": "beb68122-1ae3-4e2c-c910-dffa6fb4a654"
      },
      "source": [
        "df.tail()"
      ],
      "execution_count": null,
      "outputs": [
        {
          "output_type": "execute_result",
          "data": {
            "text/html": [
              "<div>\n",
              "<style scoped>\n",
              "    .dataframe tbody tr th:only-of-type {\n",
              "        vertical-align: middle;\n",
              "    }\n",
              "\n",
              "    .dataframe tbody tr th {\n",
              "        vertical-align: top;\n",
              "    }\n",
              "\n",
              "    .dataframe thead th {\n",
              "        text-align: right;\n",
              "    }\n",
              "</style>\n",
              "<table border=\"1\" class=\"dataframe\">\n",
              "  <thead>\n",
              "    <tr style=\"text-align: right;\">\n",
              "      <th></th>\n",
              "      <th>appId</th>\n",
              "      <th>app Title</th>\n",
              "      <th>Downloads</th>\n",
              "      <th>Actual Downloads</th>\n",
              "      <th>Rating</th>\n",
              "      <th>Rounded Rating</th>\n",
              "      <th>No. of ratings</th>\n",
              "      <th>1 star</th>\n",
              "      <th>2 star</th>\n",
              "      <th>3 star</th>\n",
              "      <th>4 star</th>\n",
              "      <th>5 star</th>\n",
              "      <th>Summation of 1star+2star+3star</th>\n",
              "      <th>Summation of 4star+5star</th>\n",
              "      <th>price</th>\n",
              "      <th>size</th>\n",
              "      <th>android Version</th>\n",
              "      <th>appDeveloper</th>\n",
              "      <th>Summary</th>\n",
              "      <th>Description</th>\n",
              "    </tr>\n",
              "  </thead>\n",
              "  <tbody>\n",
              "    <tr>\n",
              "      <th>195</th>\n",
              "      <td>com.ketodietapp.ketodiet.full</td>\n",
              "      <td>KetoDiet: Keto Diet App Tracker, Planner &amp; Rec...</td>\n",
              "      <td>100,000+</td>\n",
              "      <td>113391</td>\n",
              "      <td>4.790476</td>\n",
              "      <td>4.8</td>\n",
              "      <td>798</td>\n",
              "      <td>22</td>\n",
              "      <td>7</td>\n",
              "      <td>7</td>\n",
              "      <td>38</td>\n",
              "      <td>722</td>\n",
              "      <td>36</td>\n",
              "      <td>760</td>\n",
              "      <td>0.0</td>\n",
              "      <td>132</td>\n",
              "      <td>6</td>\n",
              "      <td>Compumaster+Ltd</td>\n",
              "      <td>#1 Keto Diet App. Lose weight with Keto friend...</td>\n",
              "      <td>KetoDiet App the original low-carb app from Ke...</td>\n",
              "    </tr>\n",
              "    <tr>\n",
              "      <th>196</th>\n",
              "      <td>com.gymdone.gymworkouttrainer</td>\n",
              "      <td>Gym Gym Workout, Personal Trainer Bodybuilding</td>\n",
              "      <td>100,000+</td>\n",
              "      <td>409139</td>\n",
              "      <td>4.601593</td>\n",
              "      <td>4.6</td>\n",
              "      <td>2516</td>\n",
              "      <td>140</td>\n",
              "      <td>60</td>\n",
              "      <td>40</td>\n",
              "      <td>180</td>\n",
              "      <td>2094</td>\n",
              "      <td>240</td>\n",
              "      <td>2274</td>\n",
              "      <td>0.0</td>\n",
              "      <td>16</td>\n",
              "      <td>5</td>\n",
              "      <td>7.14E+18</td>\n",
              "      <td>Workout Planner, Fitness &amp;amp; Weightlifting, ...</td>\n",
              "      <td>A personal fitness tracker app designed to hel...</td>\n",
              "    </tr>\n",
              "    <tr>\n",
              "      <th>197</th>\n",
              "      <td>de.komoot.android</td>\n",
              "      <td>Komoot â€” Cycling, Hiking &amp; Mountain Biking Maps</td>\n",
              "      <td>5,000,000+</td>\n",
              "      <td>9510048</td>\n",
              "      <td>4.584711</td>\n",
              "      <td>4.6</td>\n",
              "      <td>178561</td>\n",
              "      <td>4666</td>\n",
              "      <td>2313</td>\n",
              "      <td>5314</td>\n",
              "      <td>37919</td>\n",
              "      <td>128346</td>\n",
              "      <td>12293</td>\n",
              "      <td>166265</td>\n",
              "      <td>0.0</td>\n",
              "      <td>55</td>\n",
              "      <td>5</td>\n",
              "      <td>komoot+GmbH</td>\n",
              "      <td>Route planner, voice nav &amp;amp; offline maps fo...</td>\n",
              "      <td>Komoot is the key to the outdoors. Just plan y...</td>\n",
              "    </tr>\n",
              "    <tr>\n",
              "      <th>198</th>\n",
              "      <td>com.thehollisco.hollis</td>\n",
              "      <td>RISE Fitness by Rachel Hollis</td>\n",
              "      <td>10,000+</td>\n",
              "      <td>10317</td>\n",
              "      <td>3.920792</td>\n",
              "      <td>3.9</td>\n",
              "      <td>110</td>\n",
              "      <td>16</td>\n",
              "      <td>10</td>\n",
              "      <td>6</td>\n",
              "      <td>7</td>\n",
              "      <td>68</td>\n",
              "      <td>32</td>\n",
              "      <td>75</td>\n",
              "      <td>0.0</td>\n",
              "      <td>66</td>\n",
              "      <td>6</td>\n",
              "      <td>The+Hollis+Company</td>\n",
              "      <td>Habit Tracker, 10 min classes, Yoga, Guided Me...</td>\n",
              "      <td>Remember when moving your body was called play...</td>\n",
              "    </tr>\n",
              "    <tr>\n",
              "      <th>199</th>\n",
              "      <td>com.hellorelish.relish</td>\n",
              "      <td>Relish - Relationship Coaching &amp; Self-Care</td>\n",
              "      <td>10,000+</td>\n",
              "      <td>20638</td>\n",
              "      <td>4.050000</td>\n",
              "      <td>4.1</td>\n",
              "      <td>110</td>\n",
              "      <td>15</td>\n",
              "      <td>4</td>\n",
              "      <td>5</td>\n",
              "      <td>18</td>\n",
              "      <td>66</td>\n",
              "      <td>24</td>\n",
              "      <td>84</td>\n",
              "      <td>0.0</td>\n",
              "      <td>42</td>\n",
              "      <td>5</td>\n",
              "      <td>HelloRelish+Limited</td>\n",
              "      <td>Couples counseling, journaling &amp;amp; mindfulne...</td>\n",
              "      <td>Build a stronger connection, deeper affection ...</td>\n",
              "    </tr>\n",
              "  </tbody>\n",
              "</table>\n",
              "</div>"
            ],
            "text/plain": [
              "                             appId  ...                                        Description\n",
              "195  com.ketodietapp.ketodiet.full  ...  KetoDiet App the original low-carb app from Ke...\n",
              "196  com.gymdone.gymworkouttrainer  ...  A personal fitness tracker app designed to hel...\n",
              "197              de.komoot.android  ...  Komoot is the key to the outdoors. Just plan y...\n",
              "198         com.thehollisco.hollis  ...  Remember when moving your body was called play...\n",
              "199         com.hellorelish.relish  ...  Build a stronger connection, deeper affection ...\n",
              "\n",
              "[5 rows x 20 columns]"
            ]
          },
          "metadata": {
            "tags": []
          },
          "execution_count": 4
        }
      ]
    },
    {
      "cell_type": "code",
      "metadata": {
        "id": "r61ZehEmKWH0"
      },
      "source": [
        "df.drop(['appId','app Title','Downloads','Rounded Rating','No. of ratings','1 star','2 star','3 star','4 star','5 star','appDeveloper','Summary','Description'],axis='columns',inplace=True)"
      ],
      "execution_count": null,
      "outputs": []
    },
    {
      "cell_type": "code",
      "metadata": {
        "colab": {
          "base_uri": "https://localhost:8080/",
          "height": 195
        },
        "id": "X2v2xKhWLW7t",
        "outputId": "e5dc1ca5-d9bf-4f63-a65f-0c491a10d5f8"
      },
      "source": [
        "df.head()"
      ],
      "execution_count": null,
      "outputs": [
        {
          "output_type": "execute_result",
          "data": {
            "text/html": [
              "<div>\n",
              "<style scoped>\n",
              "    .dataframe tbody tr th:only-of-type {\n",
              "        vertical-align: middle;\n",
              "    }\n",
              "\n",
              "    .dataframe tbody tr th {\n",
              "        vertical-align: top;\n",
              "    }\n",
              "\n",
              "    .dataframe thead th {\n",
              "        text-align: right;\n",
              "    }\n",
              "</style>\n",
              "<table border=\"1\" class=\"dataframe\">\n",
              "  <thead>\n",
              "    <tr style=\"text-align: right;\">\n",
              "      <th></th>\n",
              "      <th>Actual Downloads</th>\n",
              "      <th>Rating</th>\n",
              "      <th>Summation of 1star+2star+3star</th>\n",
              "      <th>Summation of 4star+5star</th>\n",
              "      <th>price</th>\n",
              "      <th>size</th>\n",
              "      <th>android Version</th>\n",
              "    </tr>\n",
              "  </thead>\n",
              "  <tbody>\n",
              "    <tr>\n",
              "      <th>0</th>\n",
              "      <td>55176073</td>\n",
              "      <td>3.839610</td>\n",
              "      <td>114440</td>\n",
              "      <td>275914</td>\n",
              "      <td>0.0</td>\n",
              "      <td>Varies with device</td>\n",
              "      <td>VARY</td>\n",
              "    </tr>\n",
              "    <tr>\n",
              "      <th>1</th>\n",
              "      <td>34545161</td>\n",
              "      <td>4.106921</td>\n",
              "      <td>77613</td>\n",
              "      <td>269689</td>\n",
              "      <td>0.0</td>\n",
              "      <td>Varies with device</td>\n",
              "      <td>VARY</td>\n",
              "    </tr>\n",
              "    <tr>\n",
              "      <th>2</th>\n",
              "      <td>90401382</td>\n",
              "      <td>4.451971</td>\n",
              "      <td>271704</td>\n",
              "      <td>2117892</td>\n",
              "      <td>0.0</td>\n",
              "      <td>Varies with device</td>\n",
              "      <td>VARY</td>\n",
              "    </tr>\n",
              "    <tr>\n",
              "      <th>3</th>\n",
              "      <td>27049558</td>\n",
              "      <td>4.649608</td>\n",
              "      <td>15555</td>\n",
              "      <td>178620</td>\n",
              "      <td>0.0</td>\n",
              "      <td>20</td>\n",
              "      <td>5</td>\n",
              "    </tr>\n",
              "    <tr>\n",
              "      <th>4</th>\n",
              "      <td>14417761</td>\n",
              "      <td>4.539056</td>\n",
              "      <td>11873</td>\n",
              "      <td>95397</td>\n",
              "      <td>0.0</td>\n",
              "      <td>Varies with device</td>\n",
              "      <td>VARY</td>\n",
              "    </tr>\n",
              "  </tbody>\n",
              "</table>\n",
              "</div>"
            ],
            "text/plain": [
              "   Actual Downloads    Rating  ...                size  android Version\n",
              "0          55176073  3.839610  ...  Varies with device             VARY\n",
              "1          34545161  4.106921  ...  Varies with device             VARY\n",
              "2          90401382  4.451971  ...  Varies with device             VARY\n",
              "3          27049558  4.649608  ...                  20                5\n",
              "4          14417761  4.539056  ...  Varies with device             VARY\n",
              "\n",
              "[5 rows x 7 columns]"
            ]
          },
          "metadata": {
            "tags": []
          },
          "execution_count": 10
        }
      ]
    },
    {
      "cell_type": "code",
      "metadata": {
        "id": "FwoylZ2_MMe2"
      },
      "source": [
        "df = df.rename(columns={'Actual Downloads': 'downloads', 'Summation of 1star+2star+3star': '1-3*','Summation of 4star+5star':'4-5*','size':'appSize','android Version':'androidVersion'})"
      ],
      "execution_count": null,
      "outputs": []
    },
    {
      "cell_type": "code",
      "metadata": {
        "id": "8pkd1KFeMov8"
      },
      "source": [
        "df.drop(['appSize','androidVersion'],axis='columns',inplace=True)"
      ],
      "execution_count": null,
      "outputs": []
    },
    {
      "cell_type": "code",
      "metadata": {
        "id": "Fdy_uDGWPdPH"
      },
      "source": [
        ""
      ],
      "execution_count": null,
      "outputs": []
    }
  ]
}